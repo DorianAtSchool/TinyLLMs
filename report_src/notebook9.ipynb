{
 "cells": [
  {
   "cell_type": "markdown",
   "metadata": {},
   "source": [
    "Question 1"
   ]
  },
  {
   "cell_type": "code",
   "execution_count": 17,
   "metadata": {},
   "outputs": [],
   "source": [
    "import jax\n",
    "from matplotlib import pyplot as plt\n",
    "import time"
   ]
  },
  {
   "cell_type": "code",
   "execution_count": 46,
   "metadata": {},
   "outputs": [],
   "source": [
    "def get_data_generator(batchsize):\n",
    "    def getbatch(key):\n",
    "        key, subkey = jax.random.split(key)\n",
    "        context = 10*jax.random.uniform(subkey, [batchsize])\n",
    "        key, subkey = jax.random.split(key)\n",
    "        output = 3 + 10 * context - 0.7 * context**2 + jax.random.normal(subkey, [batchsize])\n",
    "        return context, output\n",
    "    return getbatch"
   ]
  },
  {
   "cell_type": "code",
   "execution_count": 47,
   "metadata": {},
   "outputs": [
    {
     "data": {
      "image/png": "[encoded data removed]",
      "text/plain": [
       "<Figure size 640x480 with 1 Axes>"
      ]
     },
     "metadata": {},
     "output_type": "display_data"
    }
   ],
   "source": [
    "gen = get_data_generator(100)\n",
    "\n",
    "key = jax.random.PRNGKey(0)\n",
    "context, output = gen(key)\n",
    "plt.plot(context, output, 'o')\n",
    "plt.xlabel('context')\n",
    "plt.ylabel('output')\n",
    "plt.show()\n"
   ]
  },
  {
   "cell_type": "markdown",
   "metadata": {},
   "source": [
    "Question 2"
   ]
  },
  {
   "cell_type": "code",
   "execution_count": 57,
   "metadata": {},
   "outputs": [],
   "source": [
    "import time\n",
    "import jax\n",
    "from jax import flatten_util\n",
    "from jax import numpy as jnp\n",
    "from typing import Callable\n",
    "def signed_gradient_descent(net: Callable, loss: Callable, getbatch: Callable, max_iter: int, learning_rates: list[int], *params):\n",
    "    assert isinstance(net,Callable)\n",
    "    assert isinstance(loss,Callable)\n",
    "    assert isinstance(getbatch,Callable)\n",
    "    assert isinstance(max_iter,int)\n",
    "\n",
    "    key = jax.random.PRNGKey(0)\n",
    "    w, unflatten = jax.flatten_util.ravel_pytree(params)\n",
    "\n",
    "    # batch predictive network over context, but not params\n",
    "    batched_net = jax.vmap(net,[0]+[None]*len(params))\n",
    "    # batch loss over both context and predictions\n",
    "    batched_loss = jax.vmap(loss)\n",
    "\n",
    "    def l(key,w):\n",
    "        params = unflatten(w)\n",
    "        context, next = getbatch(key)\n",
    "        pred = batched_net(context,*params)\n",
    "        return jnp.mean(batched_loss(pred, next))\n",
    "\n",
    "    fun = jax.value_and_grad(l,1)\n",
    "\n",
    "    t0 = time.time()\n",
    "\n",
    "    avg_grad = 0\n",
    "    avg_loss = 0\n",
    "    smooth_loss = 0\n",
    "\n",
    "    print(\" iter     l.r.     loss (smooth)    (avg)     time\")\n",
    "    print(\"----- -------- -------- -------- -------- --------\")\n",
    "   \n",
    "    for i in range(max_iter):\n",
    "        n = int(i * len(learning_rates) / max_iter)\n",
    "\n",
    "        key, subkey = jax.random.split(key)\n",
    "        loss, grad = fun(subkey, w)\n",
    "        avg_loss = (i*avg_loss + loss)/(i+1)\n",
    "        alpha = max(.01,1/(i+1))\n",
    "        smooth_loss = alpha*loss + (1-alpha) * smooth_loss\n",
    "\n",
    "        if i % (max_iter // 20) == 0:\n",
    "            print(f\"{i: >5} {learning_rates[n]:8.5f} {loss:8.5f} {smooth_loss:8.5f} {avg_loss:8.5f} {time.time()-t0:8.5f}\")\n",
    "        avg_grad = 0.9 * avg_grad + 0.1 * grad\n",
    "\n",
    "        w = w - learning_rates[n]*jnp.sign(avg_grad)\n",
    "   \n",
    "    t = time.time()-t0\n",
    "    t = round(t * 1000, 5)\n",
    "\n",
    "    if len(params)==1:\n",
    "        params = unflatten(w)[0]\n",
    "        # print(f\"  {t}   | {params[0]}  | {params[1]} | {params[2]} | {avg_loss} \")\n",
    "        return params\n",
    "    else:\n",
    "        params = unflatten(w)\n",
    "        # print(f\"  {t}   | {params[0]}  | {params[1]} | {params[2]} | {avg_loss} \")\n",
    "        return unflatten(w)\n",
    "\n",
    "def net(context,a,b,c):\n",
    "    return a + b*context + c*context**2\n",
    "\n",
    "def loss(pred, output):\n",
    "    return (pred - output)**2"
   ]
  },
  {
   "cell_type": "code",
   "execution_count": null,
   "metadata": {},
   "outputs": [
    {
     "name": "stdout",
     "output_type": "stream",
     "text": [
      "  Time (ms)   |       a       |      b     |       c     |   final smooth loss\n",
      "--------------|---------------|------------|-------------|---------------------\n",
      "  2605.96681   | [3.6941566]  | [7.0941534] | [-0.9058423] | 303.3845520019531 \n",
      "  2494.78602   | [3.4941568]  | [9.494158] | [-0.70584226] | 66.2212905883789 \n",
      "  2495.23616   | [2.6941576]  | [10.294161] | [-0.5058422] | 50.71369552612305 \n",
      "  2482.02205   | [5.504189]  | [8.924267] | [-0.59584194] | 112.87616729736328 \n",
      "  2494.96484   | [3.0341573]  | [10.014162] | [-0.6858425] | 31.885662078857422 \n"
     ]
    }
   ],
   "source": [
    "# arrays of batchsize, max_iter, learning_rates\n",
    "batchsizes = [1,10,100,100,100]\n",
    "max_iters = 1001\n",
    "learning_rates = [[.1],[.1],[.1],[.01], [.1,.01]]\n",
    "\n",
    "print(\"  Time (ms)   |       a       |      b     |       c     |   final smooth loss\")\n",
    "print(\"--------------|---------------|------------|-------------|---------------------\")\n",
    "\n",
    "for batchsize, learning_rate in zip(batchsizes, learning_rates):\n",
    "    key = jax.random.PRNGKey(0)\n",
    "    a = jax.random.normal(key, 1)\n",
    "    b = jax.random.normal(key, 1)\n",
    "    c = jax.random.normal(key, 1)\n",
    "    params = [a,b,c]\n",
    "\n",
    "    gen = get_data_generator(batchsize)\n",
    "    key = jax.random.PRNGKey(0)\n",
    "   \n",
    "    params = signed_gradient_descent(net, loss, gen, max_iters, learning_rate, *params)\n",
    "    print(f\"  {params} \")"
   ]
  },
  {
   "cell_type": "markdown",
   "metadata": {},
   "source": [
    "Question 3"
   ]
  },
  {
   "cell_type": "markdown",
   "metadata": {},
   "source": [
    "1. It seems that smaller batch size (e.g. 1) results in slightly higher running time than bigger batch sizes (e.g. 100). Slower learning rates similarly result in slightly higher running time as well, although all are not significant changes. \\\n",
    "2. It seems that larger batches and slower learning rates result in better final parameters, although not entirely consistent. \\\n",
    "3. The final smooth loss seems to decrease with larger batchsizes. It also seems to work best with mixed learning rates, but in general, it seems that the final loss is lower with slower learning rate \\"
   ]
  },
  {
   "cell_type": "markdown",
   "metadata": {},
   "source": [
    "Question 4"
   ]
  },
  {
   "cell_type": "code",
   "execution_count": 22,
   "metadata": {},
   "outputs": [
    {
     "name": "stdout",
     "output_type": "stream",
     "text": [
      "The Project Gutenberg EBook of The Epic of Saul, by William Cleaver Wilkinson\n"
     ]
    }
   ],
   "source": [
    "chars = ['0', '1', '2', '3', '4', '5', '6', '7', '8', '9', 'a', 'b', 'c', 'd', 'e', 'f', 'g', 'h', 'i', 'j', 'k', 'l', 'm', 'n', 'o', 'p', 'q', 'r', 's', 't', 'u', 'v', 'w', 'x', 'y', 'z', 'A', 'B', 'C', 'D', 'E', 'F', 'G', 'H', 'I', 'J', 'K', 'L', 'M', 'N', 'O', 'P', 'Q', 'R', 'S', 'T', 'U', 'V', 'W', 'X', 'Y', 'Z', '!', '?', ':', '\"', \"'\", '+', ',', '.', ' ', '\\n']\n",
    "start = [55, 17, 14, 70, 51, 27, 24, 19, 14, 12, 29, 70, 42, 30, 29, 14, 23,\n",
    "       11, 14, 27, 16, 70, 40, 37, 24, 24, 20, 70, 24, 15, 70, 55, 17, 14,\n",
    "       70, 40, 25, 18, 12, 70, 24, 15, 70, 54, 10, 30, 21, 68, 70, 11, 34,\n",
    "       70, 58, 18, 21, 21, 18, 10, 22, 70, 38, 21, 14, 10, 31, 14, 27, 70,\n",
    "       58, 18, 21, 20, 18, 23, 28, 24, 23]\n",
    "\n",
    "res = ''.join([chars[c] for c in start])\n",
    "\n",
    "print(res)"
   ]
  },
  {
   "cell_type": "markdown",
   "metadata": {},
   "source": [
    "Question 5"
   ]
  },
  {
   "cell_type": "code",
   "execution_count": 23,
   "metadata": {},
   "outputs": [],
   "source": [
    "import jax.numpy as jnp"
   ]
  },
  {
   "cell_type": "code",
   "execution_count": 24,
   "metadata": {},
   "outputs": [],
   "source": [
    "data = jnp.load('data.npz',mmap_mode='r')['data']"
   ]
  },
  {
   "cell_type": "code",
   "execution_count": 25,
   "metadata": {},
   "outputs": [],
   "source": [
    "def get_data_generator(context_size, batch_size):\n",
    "    def getbatch(key):\n",
    "        key, subkey = jax.random.split(key)\n",
    "        start = jax.random.randint(subkey, shape=batch_size, minval=0, maxval=len(data)-context_size)\n",
    "        indices = start[:,None] + jnp.arange(context_size)[None,:]\n",
    "        context = data[indices] # (batchsize x context_size)\n",
    "        next = data[start+context_size] # (batchsize,)\n",
    "        return context, next\n",
    "    return getbatch"
   ]
  },
  {
   "cell_type": "code",
   "execution_count": 26,
   "metadata": {
    "vscode": {
     "languageId": "markdown"
    }
   },
   "outputs": [
    {
     "name": "stdout",
     "output_type": "stream",
     "text": [
      "Shape of context:  (5, 50) Shape of next:  (5,)\n",
      "context:  [[24 23 28 25 18 27 10 12 34 68 71 14 33 29 14 23 13 14 13 70 11 34 70 29\n",
      "  17 14 70 36 12 29 28 70 24 15 70  1  8  8  7 68 70  1  8  9  1 68 70 10\n",
      "  23 13]\n",
      " [18 29 14 13 70 54 29 10 29 14 28 70 12 24 25 34 27 18 16 17 29 70 18 23\n",
      "  70 29 17 14 28 14 70 32 24 27 20 28 68 70 28 24 70 29 17 14 70 41 24 30\n",
      "  23 13]\n",
      " [28 69 70 44 29 70 18 28 70 25 27 24 11 10 11 21 14 70 29 17 10 29 70 39\n",
      "  30 27 17 10 22 71 32 10 28 70 27 14 10 21 21 34 70 22 24 27 14 70 18 23\n",
      "  15 21]\n",
      " [23 70 29 17 14 70 56 23 18 29 14 13 70 54 29 10 29 14 28 68 70 32 14 70\n",
      "  13 24 70 23 24 29 70 12 21 10 18 22 70 10 70 27 18 16 17 29 70 29 24 70\n",
      "  25 27]\n",
      " [10 28 70 32 14 21 21 69 65 71 71 65 44 70 32 10 28 70 16 24 18 23 16 70\n",
      "  29 24 70 10 28 20 70 34 24 30 70 29 24 70 21 14 29 70 22 14 70 29 10 20\n",
      "  14 70]]\n",
      "next:  [70 10 30 14 10]\n"
     ]
    }
   ],
   "source": [
    "key = jax.random.PRNGKey(0)\n",
    "getbatch = get_data_generator(50, 5)\n",
    "context, next = getbatch(key)\n",
    "\n",
    "print(\"Shape of context: \", context.shape, \"Shape of next: \", next.shape)\n",
    "\n",
    "print(\"context: \", context)\n",
    "\n",
    "print(\"next: \", next)"
   ]
  },
  {
   "cell_type": "markdown",
   "metadata": {},
   "source": [
    "a)\\\n",
    "context shape: (5, 50). (batchsize, context_size) \\\n",
    "next shape: (5,) (batchsize) \\\n",
    "\n",
    "b)\n",
    "context contains the batched numerical data that act as the input (\"previous knowledge\") to predict the target values contained in next. \\\n",
    "\n",
    "c)\n",
    "the key is split into 2 subkeys, one for the context and one for next, such that we dont reuse the same random variables when generating.\n",
    "\n",
    "\n",
    "\n"
   ]
  },
  {
   "cell_type": "markdown",
   "metadata": {},
   "source": [
    "question 6"
   ]
  },
  {
   "cell_type": "code",
   "execution_count": 27,
   "metadata": {
    "vscode": {
     "languageId": "markdown"
    }
   },
   "outputs": [],
   "source": [
    "from jax.nn import logsumexp\n",
    "\n",
    "def loss(pred,next):\n",
    "    num_characters = len(chars)\n",
    "    assert pred.shape == (num_characters,)\n",
    "    assert next.shape == ()\n",
    "    log_probs = pred - logsumexp(pred)\n",
    "    assert log_probs.shape == (num_characters,)\n",
    "    next_onehot = jax.nn.one_hot(next, num_classes=num_characters)\n",
    "    assert next_onehot.shape == (num_characters,)\n",
    "    out = -jnp.sum(log_probs * next_onehot)\n",
    "    assert out.shape == ()\n",
    "    return out\n",
    "\n",
    "    "
   ]
  },
  {
   "cell_type": "code",
   "execution_count": 28,
   "metadata": {
    "vscode": {
     "languageId": "markdown"
    }
   },
   "outputs": [],
   "source": [
    "def constant_net(context, b):\n",
    "    # input context is a 1-D array of size context_size\n",
    "    # each entry is an index between 0 and num_characters\n",
    "    # these represent the most recent characters\n",
    "    (context_size,) = context.shape\n",
    "    (num_characters,) = b.shape\n",
    "\n",
    "    # [do stuff.]\n",
    "\n",
    "    # predict a constant vector\n",
    "    pred = b\n",
    "\n",
    "          \n",
    "    assert pred.shape == (num_characters,)\n",
    "    return pred"
   ]
  },
  {
   "cell_type": "code",
   "execution_count": null,
   "metadata": {
    "vscode": {
     "languageId": "markdown"
    }
   },
   "outputs": [
    {
     "name": "stdout",
     "output_type": "stream",
     "text": [
      " iter     l.r.     loss (smooth)    (avg)     time\n",
      "----- -------- -------- -------- -------- --------\n",
      "    0  0.00100  4.27667  4.27667  4.27667  0.02772\n",
      "  500  0.00100  3.75796  3.84823  4.00168  2.72620\n",
      " 1000  0.00100  3.42981  3.48416  3.79038  5.43914\n",
      " 1500  0.00100  3.28311  3.28676  3.63863  8.39022\n",
      " 2000  0.00100  3.18296  3.18663  3.53152 11.02354\n",
      " 2500  0.00100  3.13428  3.14404  3.45595 13.64159\n",
      " 3000  0.00100  3.13118  3.13523  3.40261 16.30306\n",
      " 3500  0.00100  3.14047  3.13310  3.36422 19.26403\n",
      " 4000  0.00100  3.10767  3.13320  3.33532 21.99465\n",
      " 4500  0.00100  3.11254  3.13212  3.31281 24.82710\n",
      " 5000  0.00010  3.12061  3.13259  3.29482 27.55235\n",
      " 5500  0.00010  3.11545  3.13263  3.28018 30.22116\n",
      " 6000  0.00010  3.14931  3.13334  3.26787 33.03475\n",
      " 6500  0.00010  3.15036  3.13409  3.25748 35.96461\n",
      " 7000  0.00010  3.14825  3.13339  3.24855 38.84472\n",
      " 7500  0.00010  3.11208  3.13300  3.24085 41.47183\n",
      " 8000  0.00010  3.14472  3.13200  3.23414 44.18035\n",
      " 8500  0.00010  3.11545  3.13456  3.22823 47.28741\n",
      " 9000  0.00010  3.14127  3.13248  3.22299 50.03408\n",
      " 9500  0.00010  3.13086  3.13249  3.21829 52.93438\n"
     ]
    }
   ],
   "source": [
    "batchsize = 4096\n",
    "context_size = 32\n",
    "iters = 10000\n",
    "learning_rates = [.001, .0001]\n",
    "b = jnp.zeros(len(chars))\n",
    "\n",
    "params = [b]\n",
    "\n",
    "gen = get_data_generator(context_size, batchsize)\n",
    "\n",
    "params = signed_gradient_descent(constant_net, loss, gen, iters, learning_rates, *params)\n",
    "\n"
   ]
  },
  {
   "cell_type": "markdown",
   "metadata": {},
   "source": [
    "Question 7"
   ]
  },
  {
   "cell_type": "code",
   "execution_count": 30,
   "metadata": {
    "vscode": {
     "languageId": "markdown"
    }
   },
   "outputs": [],
   "source": [
    "char2int = dict(zip(chars, range(len(chars))))\n",
    "\n",
    "def generate_char(net,context,key,*params):\n",
    "    pred = net(context,*params);\n",
    "    assert pred.shape == (num_characters,)\n",
    "    out = jax.random.categorical(key, pred);\n",
    "    assert out.shape == ()\n",
    "    return out\n",
    "\n",
    "def generate(net,context_str,context_size,num_char,*params):\n",
    "    context = [char2int[c] for c in context_str]\n",
    "\n",
    "    key = jax.random.PRNGKey(1)\n",
    "    for i in range(num_char):\n",
    "        key, subkey = jax.random.split(key)\n",
    "        my_context = jnp.array(context[-context_size:])\n",
    "        c = generate_char(net,my_context,subkey,*params)\n",
    "        context.append(int(c))\n",
    "\n",
    "    out = ''.join([chars[i] for i in context])\n",
    "\n",
    "    return out"
   ]
  },
  {
   "cell_type": "code",
   "execution_count": 31,
   "metadata": {
    "vscode": {
     "languageId": "markdown"
    }
   },
   "outputs": [
    {
     "name": "stdout",
     "output_type": "stream",
     "text": [
      "STUDENT:\n",
      "I have searched the skies and found...\n",
      "\n",
      "TEACHER:\n",
      "Yes? What have you found?\n",
      "\n",
      "STUDENT\n",
      "I have found a fact, a fact most excellent.\n",
      "  c rtttu\n",
      " e e\n",
      "lv ib,grunek  el iertah d\n",
      "  pauo goghmf e  lrC\"ac  ty\n",
      "eb tte  biic,nitn iohp\n",
      "oooiotttracvenn   ern..ch I uen th ee\n",
      "ha alelr   woteInupo t  r w\n",
      "ro\"e.lr\n",
      "b ubDepegyttloi.hsinnceOfimtwd\n",
      "wc,ernreluebn tnl dpcer sis  ds reo \"doh a ne c.satsfnm lsa rnf rioefhaorcodees heotG e ao\n",
      "ohtle dmhe  eC ecsd2c,aride  eei Th?ordr\n",
      "Paehaeel l ud 0hrsoiad e eiavewi mr\n",
      "dtf   s fyahiSs eIn p oic olo\n",
      " d r a Re mmth r leSess dto seiia  ielmrt hedluii2e s \n",
      "liy ,frocn\n",
      "  fmce g dBndctud .iod ,agty  l .L shEp\n"
     ]
    }
   ],
   "source": [
    "b_constant = params\n",
    "start = \"STUDENT:\\nI have searched the skies and found...\\n\\nTEACHER:\\nYes? What have you found?\\n\\nSTUDENT\\nI have found a fact, a fact most excellent.\\n\"\n",
    "num_characters = len(chars)\n",
    "print(generate(constant_net,start,context_size,500,b_constant))"
   ]
  },
  {
   "cell_type": "markdown",
   "metadata": {},
   "source": [
    "Question 8"
   ]
  },
  {
   "cell_type": "code",
   "execution_count": 32,
   "metadata": {
    "vscode": {
     "languageId": "markdown"
    }
   },
   "outputs": [],
   "source": [
    "import numpy as np"
   ]
  },
  {
   "cell_type": "code",
   "execution_count": 33,
   "metadata": {
    "vscode": {
     "languageId": "markdown"
    }
   },
   "outputs": [],
   "source": [
    "def linear_net(context, b, W):\n",
    "    # W, b = params[0], params[1]\n",
    "    # print('w: ', W)\n",
    "    # print('b: ', b)\n",
    "\n",
    "    (context_size,) = context.shape\n",
    "\n",
    "    (context_size2, num_characters, num_characters2) = W.shape\n",
    "    assert context_size == context_size2\n",
    "    assert num_characters == num_characters2\n",
    "\n",
    "    context_onehot = jax.nn.one_hot(context, num_classes=num_characters)\n",
    "    assert context_onehot.shape == (context_size, num_characters)\n",
    "\n",
    "\n",
    "    # We need to multiply context_onehot with W along the context_size dimension\n",
    "    \n",
    "    pred = jnp.einsum('ij,ijk->k', context_onehot, W) + b\n",
    "\n",
    "    assert pred.shape == (num_characters,)\n",
    "    return pred"
   ]
  },
  {
   "cell_type": "code",
   "execution_count": 34,
   "metadata": {
    "vscode": {
     "languageId": "markdown"
    }
   },
   "outputs": [
    {
     "name": "stdout",
     "output_type": "stream",
     "text": [
      " iter     l.r.     loss (smooth)    (avg)     time\n",
      "----- -------- -------- -------- -------- --------\n",
      "    0  0.00100  4.28394  4.28394  4.28394  0.16214\n",
      "  500  0.00100  2.56146  2.63390  2.84003  7.86799\n",
      " 1000  0.00100  2.37643  2.39678  2.64487 15.21716\n",
      " 1500  0.00100  2.33781  2.31454  2.54092 22.31885\n",
      " 2000  0.00100  2.29808  2.28205  2.47820 29.77769\n",
      " 2500  0.00100  2.26396  2.27183  2.43770 37.18627\n",
      " 3000  0.00100  2.28718  2.27311  2.41000 44.95227\n",
      " 3500  0.00100  2.24690  2.27569  2.39074 52.18431\n",
      " 4000  0.00100  2.29151  2.28119  2.37678 59.62810\n",
      " 4500  0.00100  2.28138  2.28403  2.36655 67.86923\n",
      " 5000  0.00010  2.28246  2.29063  2.35896 75.23881\n",
      " 5500  0.00010  2.30287  2.28773  2.35269 83.16335\n",
      " 6000  0.00010  2.29197  2.28485  2.34715 93.40257\n",
      " 6500  0.00010  2.35776  2.28828  2.34241 106.17691\n",
      " 7000  0.00010  2.31598  2.28488  2.33819 114.35264\n",
      " 7500  0.00010  2.24745  2.28746  2.33473 125.59524\n",
      " 8000  0.00010  2.26777  2.28614  2.33171 135.56565\n",
      " 8500  0.00010  2.27731  2.28815  2.32907 143.07084\n",
      " 9000  0.00010  2.32643  2.28784  2.32678 152.37469\n",
      " 9500  0.00010  2.31722  2.28497  2.32467 159.80256\n"
     ]
    }
   ],
   "source": [
    "batchsize = 4096\n",
    "context_size = 32\n",
    "iters = 10000\n",
    "learning_rates = [.001, .0001]\n",
    "num_characters = len(chars)\n",
    "\n",
    "b_linear = jnp.zeros(num_characters)\n",
    "W_linear = jnp.array(.01*np.random.randn(context_size, num_characters, num_characters))\n",
    "\n",
    "\n",
    "params = [b_linear, W_linear]\n",
    "\n",
    "gen = get_data_generator(context_size, batchsize)\n",
    "\n",
    "params = signed_gradient_descent(linear_net, loss, gen, iters, learning_rates, *params)"
   ]
  },
  {
   "cell_type": "markdown",
   "metadata": {},
   "source": [
    "Question 9"
   ]
  },
  {
   "cell_type": "code",
   "execution_count": 35,
   "metadata": {
    "vscode": {
     "languageId": "markdown"
    }
   },
   "outputs": [
    {
     "name": "stdout",
     "output_type": "stream",
     "text": [
      "STUDENT:\n",
      "I have searched the skies and found...\n",
      "\n",
      "TEACHER:\n",
      "Yes? What have you found?\n",
      "\n",
      "STUDENT\n",
      "I have found a fact, a fact most excellent.\n",
      "\n",
      " of the   s bllige the Amby whe probe d\n",
      " \"Prup of hmuthare thacllay\n",
      "d were  or canit the pestory: \"Arcutwa cherragr at tenginee,\n",
      "Ithale, as woted upolt  haverobe.\n",
      "\n",
      "\n",
      "N CLDecaly tiol. Sin centim, of caringelleby tho dpaknes somes aiof dof aree cosstichm ls orne tion anorsedens he ther ablotele! meer ond cow ton ine beem The rom\n",
      "Painatel ufuthengsoind coniag witho\n",
      "d mante foreple ton proflyono\n",
      "Mack are, mather theessadlougenin sizemethind uinne s inis ffrocher fice of\n",
      "Bricturn. He tasty he wall be\n"
     ]
    }
   ],
   "source": [
    "\n",
    "p = params\n",
    "start = \"STUDENT:\\nI have searched the skies and found...\\n\\nTEACHER:\\nYes? What have you found?\\n\\nSTUDENT\\nI have found a fact, a fact most excellent.\\n\"\n",
    "\n",
    "print(generate(linear_net,start,context_size,500, *p))"
   ]
  },
  {
   "cell_type": "markdown",
   "metadata": {},
   "source": [
    "Question 10"
   ]
  },
  {
   "cell_type": "code",
   "execution_count": null,
   "metadata": {
    "vscode": {
     "languageId": "markdown"
    }
   },
   "outputs": [],
   "source": [
    "def mlp_net(context, b, c, W, V):\n",
    "    assert context.shape == (context_size,)\n",
    "    (context_size,) = context.shape\n",
    "    (num_characters,) = b.shape\n",
    "    (num_hidden,) = c.shape\n",
    "    (num_characters, num_hidden) = W.shape\n",
    "    (context_size, num_characters, num_hidden) = V.shape\n",
    "\n",
    "    context_onehot = jax.nn.one_hot(context, num_classes=num_characters)\n",
    "    assert context_onehot.shape == (context_size, num_characters)\n",
    "\n",
    "    # [do stuff]\n",
    "\n",
    "    # first layer\n",
    "    h1 = jnp.einsum('ij,ijk->k', context_onehot, V) + c\n",
    "    l1 = jax.nn.relu(h1)\n",
    "    \n",
    "\n",
    "    pred = b + W @ l1\n",
    "    assert pred.shape == (num_characters,)\n",
    "    return pred"
   ]
  },
  {
   "cell_type": "code",
   "execution_count": 37,
   "metadata": {
    "vscode": {
     "languageId": "markdown"
    }
   },
   "outputs": [
    {
     "name": "stdout",
     "output_type": "stream",
     "text": [
      " iter     l.r.     loss (smooth)    (avg)     time\n",
      "----- -------- -------- -------- -------- --------\n",
      "    0  0.00100  4.27603  4.27603  4.27603  0.79735\n",
      "  500  0.00100  1.90563  2.00908  2.30095 34.99069\n",
      " 1000  0.00100  1.78632  1.80122  2.06997 71.84578\n",
      " 1500  0.00100  1.74954  1.73723  1.96433 112.49686\n",
      " 2000  0.00100  1.74241  1.70301  1.90110 156.91322\n",
      " 2500  0.00100  1.62852  1.67725  1.85782 194.31828\n",
      " 3000  0.00100  1.66574  1.65953  1.82540 233.58647\n",
      " 3500  0.00100  1.65879  1.64913  1.80061 270.97481\n",
      " 4000  0.00100  1.63123  1.64054  1.78076 310.07613\n",
      " 4500  0.00100  1.58940  1.62880  1.76425 349.32883\n",
      " 5000  0.00010  1.62587  1.62300  1.75032 386.42197\n",
      " 5500  0.00010  1.64957  1.59733  1.73701 425.49937\n",
      " 6000  0.00010  1.61687  1.58785  1.72477 463.36210\n",
      " 6500  0.00010  1.62156  1.58363  1.71394 499.46647\n",
      " 7000  0.00010  1.58306  1.57478  1.70408 538.08612\n",
      " 7500  0.00010  1.52659  1.57148  1.69539 577.97836\n",
      " 8000  0.00010  1.56541  1.56741  1.68757 614.37243\n",
      " 8500  0.00010  1.56117  1.56740  1.68047 649.60792\n",
      " 9000  0.00010  1.54836  1.56470  1.67399 685.35523\n",
      " 9500  0.00010  1.62733  1.55928  1.66808 720.54154\n"
     ]
    }
   ],
   "source": [
    "batchsize = 4096\n",
    "context_size = 32\n",
    "iters = 10000\n",
    "learning_rates = [.001, .0001]\n",
    "num_characters = len(chars)\n",
    "\n",
    "num_hidden = 500\n",
    "b_mlp = jnp.zeros(num_characters)\n",
    "c_mlp = jnp.zeros(num_hidden)\n",
    "W_mlp = jnp.array(.01*np.random.randn(num_characters, num_hidden))\n",
    "V_mlp = jnp.array(.01*np.random.randn(context_size, num_characters, num_hidden))\n",
    "\n",
    "\n",
    "params = [b_mlp, c_mlp, W_mlp, V_mlp]\n",
    "\n",
    "gen = get_data_generator(context_size, batchsize)\n",
    "\n",
    "params = signed_gradient_descent(mlp_net, loss, gen, iters, learning_rates, *params)"
   ]
  },
  {
   "cell_type": "markdown",
   "metadata": {},
   "source": [
    "Question 11"
   ]
  },
  {
   "cell_type": "code",
   "execution_count": 38,
   "metadata": {
    "vscode": {
     "languageId": "markdown"
    }
   },
   "outputs": [
    {
     "name": "stdout",
     "output_type": "stream",
     "text": [
      "STUDENT:\n",
      "I have searched the skies and found...\n",
      "\n",
      "TEACHER:\n",
      "Yes? What have you found?\n",
      "\n",
      "STUDENT\n",
      "I have found a fact, a fact most excellent.\n",
      "\n",
      "To retture    liver, restor elexpress delierso of the Daymarce! The\n",
      "difficulting, it will how to the cuttains one. Wat feeling mark, took the Vedaup on a swork at leagure which it grain confided two,\n",
      "the lutby that parts, successed by\n",
      "him he cousts of liverning obland convested the family were began anced boaring being to rell and and leud andsomal conicient of\n",
      "the Volvania, satingphanced of discard, mather leters who said, as immorded upon the\n",
      "like, by heart clught becauded. The stock fastshop\n"
     ]
    }
   ],
   "source": [
    "p = params\n",
    "start = \"STUDENT:\\nI have searched the skies and found...\\n\\nTEACHER:\\nYes? What have you found?\\n\\nSTUDENT\\nI have found a fact, a fact most excellent.\\n\"\n",
    "\n",
    "print(generate(mlp_net,start,context_size,500, *p))"
   ]
  },
  {
   "cell_type": "markdown",
   "metadata": {},
   "source": [
    "Question 12"
   ]
  },
  {
   "cell_type": "code",
   "execution_count": 39,
   "metadata": {
    "vscode": {
     "languageId": "markdown"
    }
   },
   "outputs": [],
   "source": [
    "def dbl_net(context, b, c, d, W, V, U):\n",
    "    assert context.shape == (context_size,)\n",
    "\n",
    "    context_onehot = jax.nn.one_hot(context, num_classes=num_characters)\n",
    "    assert context_onehot.shape == (context_size, num_characters)\n",
    "\n",
    "    # [do stuff]\n",
    "    h1 = jnp.einsum('ijk,ij->k', V, context_onehot) + c\n",
    "    l1 = jax.nn.relu(h1)\n",
    "    \n",
    "    # second layer\n",
    "    h2 = jnp.einsum('k,jk->k', l1, U) + d\n",
    "    l2 = jax.nn.relu(h2)\n",
    "\n",
    "    pred = b + W @ l2\n",
    "    assert pred.shape == (num_characters,)\n",
    "\n",
    "    return pred"
   ]
  },
  {
   "cell_type": "code",
   "execution_count": 40,
   "metadata": {
    "vscode": {
     "languageId": "markdown"
    }
   },
   "outputs": [
    {
     "name": "stdout",
     "output_type": "stream",
     "text": [
      " iter     l.r.     loss (smooth)    (avg)     time\n",
      "----- -------- -------- -------- -------- --------\n",
      "    0  0.00100  4.27667  4.27667  4.27667  0.39515\n",
      "  500  0.00100  1.91986  1.98242  2.21543 52.13944\n",
      " 1000  0.00100  1.84668  1.86097  2.04942 102.83609\n",
      " 1500  0.00100  1.85455  1.82285  1.97715 152.54611\n",
      " 2000  0.00100  1.82844  1.80457  1.93525 202.87642\n",
      " 2500  0.00100  1.76737  1.79316  1.90756 253.00644\n",
      " 3000  0.00100  1.77197  1.78332  1.88719 306.35678\n",
      " 3500  0.00100  1.78004  1.78175  1.87214 356.96288\n",
      " 4000  0.00100  1.76319  1.77826  1.86052 407.42856\n",
      " 4500  0.00100  1.74391  1.77386  1.85109 456.78786\n",
      " 5000  0.00010  1.76011  1.77274  1.84338 504.86405\n",
      " 5500  0.00010  1.76384  1.72043  1.83286 554.39541\n",
      " 6000  0.00010  1.74332  1.71038  1.82284 601.72159\n",
      " 6500  0.00010  1.74147  1.70693  1.81395 649.82745\n",
      " 7000  0.00010  1.72367  1.69977  1.80580 700.99020\n",
      " 7500  0.00010  1.64946  1.69591  1.79862 751.55216\n",
      " 8000  0.00010  1.67967  1.69293  1.79215 804.38640\n",
      " 8500  0.00010  1.70911  1.69330  1.78629 854.83338\n",
      " 9000  0.00010  1.68200  1.69000  1.78097 903.49232\n",
      " 9500  0.00010  1.74276  1.68659  1.77616 957.79651\n"
     ]
    }
   ],
   "source": [
    "batchsize = 4096\n",
    "context_size = 32\n",
    "iters = 10000\n",
    "learning_rates = [.001, .0001]\n",
    "num_characters = len(chars)\n",
    "\n",
    "num_hidden = 500\n",
    "b_dbl = jnp.zeros(num_characters)\n",
    "c_dbl = jnp.zeros(num_hidden)\n",
    "d_dbl = jnp.zeros(num_hidden)\n",
    "W_dbl = jnp.zeros((num_characters, num_hidden))\n",
    "V_dbl = jnp.array(.01*np.random.randn(context_size, num_characters, num_hidden))\n",
    "U_dbl = jnp.array(.01*np.random.randn(num_hidden, num_hidden))\n",
    "\n",
    "params = [b_dbl, c_dbl, d_dbl, W_dbl, V_dbl, U_dbl]\n",
    "\n",
    "gen = get_data_generator(context_size, batchsize)\n",
    "\n",
    "params = signed_gradient_descent(dbl_net, loss, gen, iters, learning_rates, *params)"
   ]
  },
  {
   "cell_type": "markdown",
   "metadata": {},
   "source": [
    "Question 13"
   ]
  },
  {
   "cell_type": "code",
   "execution_count": 41,
   "metadata": {
    "vscode": {
     "languageId": "markdown"
    }
   },
   "outputs": [
    {
     "name": "stdout",
     "output_type": "stream",
     "text": [
      "STUDENT:\n",
      "I have searched the skies and found...\n",
      "\n",
      "TEACHER:\n",
      "Yes? What have you found?\n",
      "\n",
      "STUDENT\n",
      "I have found a fact, a fact most excellent.\n",
      "\n",
      "To rettle s breation oundral, for the deticalong gome that Came bar\n",
      "But Jew Timc, it with and to the cuncuess on. You duen the mark, though world upon a way\n",
      "rountly bevered by thod.\"\n",
      "\n",
      "\"He word,work at the Cebjects Rock, with discendiders\n",
      "where.\n",
      "\n",
      " Scrusist ruserious arroodeds here was overwanted a both cown't wite been breard'\n",
      "    One in where so, I canifus into\n",
      "dufter Royaging to pastic plopt they be maintailed scant, such found other to him stilike, by he had lightened up of detage man which\n",
      "p\n"
     ]
    }
   ],
   "source": [
    "\n",
    "p = params\n",
    "start = \"STUDENT:\\nI have searched the skies and found...\\n\\nTEACHER:\\nYes? What have you found?\\n\\nSTUDENT\\nI have found a fact, a fact most excellent.\\n\"\n",
    "\n",
    "print(generate(dbl_net,start,context_size,500, *p))"
   ]
  },
  {
   "cell_type": "markdown",
   "metadata": {},
   "source": [
    "Question 14"
   ]
  },
  {
   "cell_type": "code",
   "execution_count": 43,
   "metadata": {
    "vscode": {
     "languageId": "markdown"
    }
   },
   "outputs": [
    {
     "name": "stdout",
     "output_type": "stream",
     "text": [
      " iter     l.r.     loss (smooth)    (avg)     time\n",
      "----- -------- -------- -------- -------- --------\n",
      "    0  0.00100  4.27667  4.27667  4.27667  0.53196\n",
      "  500  0.00100  1.95496  2.00869  2.18941 231.11978\n",
      " 1000  0.00100  1.90694  1.91072  2.06173 479.21931\n",
      " 1500  0.00100  1.92144  1.90963  2.01003 728.60522\n",
      " 2000  0.00100  1.89641  1.87344  1.97817 972.28603\n",
      " 2500  0.00100  1.83292  1.86724  1.95542 1235.81153\n",
      " 3000  0.00100  1.85139  1.85567  1.93868 1502.43324\n",
      " 3500  0.00100  1.86184  1.85394  1.92677 1766.35529\n",
      " 4000  0.00100  1.85162  1.86234  1.91908 2033.64448\n",
      " 4500  0.00100  1.80985  1.87569  1.91336 2294.00349\n",
      " 5000  0.00010  1.84876  1.86237  1.90806 2556.69526\n",
      " 5500  0.00010  1.82357  1.78007  1.89734 2820.77900\n",
      " 6000  0.00010  1.79365  1.76830  1.88672 3096.17514\n",
      " 6500  0.00010  1.79828  1.76144  1.87713 3365.67538\n",
      " 7000  0.00010  1.76979  1.75612  1.86842 3650.80706\n",
      " 7500  0.00010  1.71450  1.75216  1.86071 3917.23336\n",
      " 8000  0.00010  1.72298  1.74601  1.85365 4184.19163\n",
      " 8500  0.00010  1.76215  1.74602  1.84727 4467.21299\n",
      " 9000  0.00010  1.74628  1.74563  1.84152 7570.98535\n",
      " 9500  0.00010  1.78409  1.73857  1.83623 7794.31486\n"
     ]
    }
   ],
   "source": [
    "batchsize = 4096\n",
    "context_size = 32\n",
    "iters = 10000\n",
    "learning_rates = [.001, .0001]\n",
    "num_characters = len(chars)\n",
    "\n",
    "num_hidden = 2500\n",
    "b_dbl = jnp.zeros(num_characters)\n",
    "c_dbl = jnp.zeros(num_hidden)\n",
    "d_dbl = jnp.zeros(num_hidden)\n",
    "W_dbl = jnp.zeros((num_characters, num_hidden))\n",
    "V_dbl = jnp.array(.01*np.random.randn(context_size, num_characters, num_hidden))\n",
    "U_dbl = jnp.array(.01*np.random.randn(num_hidden, num_hidden))\n",
    "\n",
    "\n",
    "params = [b_dbl, c_dbl, d_dbl, W_dbl, V_dbl, U_dbl]\n",
    "\n",
    "gen = get_data_generator(context_size, batchsize)\n",
    "\n",
    "params = signed_gradient_descent(dbl_net, loss, gen, iters, learning_rates, *params)"
   ]
  },
  {
   "cell_type": "markdown",
   "metadata": {},
   "source": [
    "Question 15"
   ]
  },
  {
   "cell_type": "code",
   "execution_count": 44,
   "metadata": {
    "vscode": {
     "languageId": "markdown"
    }
   },
   "outputs": [
    {
     "name": "stdout",
     "output_type": "stream",
     "text": [
      "STUDENT:\n",
      "I have searched the skies and found...\n",
      "\n",
      "TEACHER:\n",
      "Yes? What have you found?\n",
      "\n",
      "STUDENT\n",
      "I have found a fact, a fact most excellent.\n",
      "\n",
      "The they we bwlitied to the slexervicil\n",
      "    No goghmen. We Ccame by the Jew bish, it his passon to the know serval hak benother,\n",
      "have elrast other polit way robe. Befoue\n",
      "boways ind.\"335 Oblowers,\" carred lief \"And Rpcers, sumpassed the barness.\n",
      "\n",
      " Scrust!\" And the fairrs Mrss herood for beale on the Caprod William He may Mord'\n",
      "Pheianes leuded thou will if still sonfented angios to pastic of the Charless the readess who sevent in mull had in ploy\n",
      "like, bove o't clugidenchaud mind togeth was, shop\n"
     ]
    }
   ],
   "source": [
    "\n",
    "p = params\n",
    "start = \"STUDENT:\\nI have searched the skies and found...\\n\\nTEACHER:\\nYes? What have you found?\\n\\nSTUDENT\\nI have found a fact, a fact most excellent.\\n\"\n",
    "\n",
    "print(generate(dbl_net,start,context_size,500, *p))"
   ]
  }
 ],
 "metadata": {
  "kernelspec": {
   "display_name": "base",
   "language": "python",
   "name": "python3"
  },
  "language_info": {
   "codemirror_mode": {
    "name": "ipython",
    "version": 3
   },
   "file_extension": ".py",
   "mimetype": "text/x-python",
   "name": "python",
   "nbconvert_exporter": "python",
   "pygments_lexer": "ipython3",
   "version": "3.11.7"
  }
 },
 "nbformat": 4,
 "nbformat_minor": 2
}
